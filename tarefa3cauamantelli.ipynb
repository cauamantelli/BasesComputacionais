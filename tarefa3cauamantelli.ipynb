{
  "nbformat": 4,
  "nbformat_minor": 0,
  "metadata": {
    "colab": {
      "provenance": [],
      "name": "tarefa3cauamantelli.ipynb",
      "authorship_tag": "ABX9TyMmx6GzCahoQI90aVZWrNtd",
      "include_colab_link": true
    },
    "kernelspec": {
      "name": "python3",
      "display_name": "Python 3"
    },
    "language_info": {
      "name": "python"
    }
  },
  "cells": [
    {
      "cell_type": "markdown",
      "metadata": {
        "id": "view-in-github",
        "colab_type": "text"
      },
      "source": [
        "<a href=\"https://colab.research.google.com/github/cauamantelli/BasesComputacionais/blob/master/tarefa3cauamantelli.ipynb\" target=\"_parent\"><img src=\"https://colab.research.google.com/assets/colab-badge.svg\" alt=\"Open In Colab\"/></a>"
      ]
    },
    {
      "cell_type": "markdown",
      "source": [
        "# Tarefa 3\n",
        "\n",
        "Cauã Mantelli\n"
      ],
      "metadata": {
        "id": "pgvpn91MZTxf"
      }
    },
    {
      "cell_type": "code",
      "source": [
        "h = 1.5\n",
        "s = h * 3600 # Transformação de horas para segundos\n",
        "print (f'Tempo em segundos: {s}')"
      ],
      "metadata": {
        "colab": {
          "base_uri": "https://localhost:8080/"
        },
        "id": "YLlPIreNZ18W",
        "outputId": "510704aa-363d-419e-9ea6-59d7e1783d2f"
      },
      "execution_count": null,
      "outputs": [
        {
          "output_type": "stream",
          "name": "stdout",
          "text": [
            "Tempo em segundos: 5400.0\n"
          ]
        }
      ]
    },
    {
      "cell_type": "code",
      "source": [
        "h = 12\n",
        "s = h * 3600 # Transformação de horas para segundos\n",
        "print (f'Tempo em segundos: {s}')"
      ],
      "metadata": {
        "colab": {
          "base_uri": "https://localhost:8080/"
        },
        "id": "1U9b-KbqbOVm",
        "outputId": "910d7409-dd87-43c2-865c-6a21446cc569"
      },
      "execution_count": null,
      "outputs": [
        {
          "output_type": "stream",
          "name": "stdout",
          "text": [
            "Tempo em segundos: 43200\n"
          ]
        }
      ]
    },
    {
      "cell_type": "code",
      "source": [
        "h = 24\n",
        "s = h * 3600 # Transformação de horas para segundos\n",
        "print (f'Tempo em segundos: {s}')"
      ],
      "metadata": {
        "id": "tmCtrLqWbWBu"
      },
      "execution_count": null,
      "outputs": []
    }
  ]
}